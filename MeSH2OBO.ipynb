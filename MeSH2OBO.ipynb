{
 "cells": [
  {
   "cell_type": "markdown",
   "metadata": {},
   "source": [
    "# How to convert MeSH Terminology to OBO\n",
    "\n",
    "In this example, we show you how to convert the terminology MeSH to OBO format in order to import it into Information Discovery. \n",
    "\n",
    "### About MeSH\n",
    "\n",
    "Medical Subject Headings (MeSH) is a comprehensive controlled vocabulary for the purpose of indexing journal articles and books in the life sciences; it serves as a thesaurus that facilitates searching. Created and updated by the United States National Library of Medicine (NLM), it is used by the MEDLINE/PubMed article database and by NLM's catalog of book holdings. MeSH is also used by ClinicalTrials.gov registry to classify which diseases are studied by trials registered in ClinicalTrials.gov. [Source: Wikipedia]\n",
    "\n",
    "### Download MeSH\n",
    "\n",
    "We use the MeSH ASCII format for conversion to OBO. You can find the downloadable file [here](https://www.nlm.nih.gov/mesh/filelist.html) (in 2018, the required file was named d2018.bin).\n",
    "\n",
    "### Okay, let's start now\n",
    "\n",
    "Let's start now. We will consider the following MeSH elements:\n",
    " - Unique IDs (UI)\n",
    " - Main Headings (MH)\n",
    " - Entry Terms (EN), and \n",
    " - Hierarchies (TN). \n",
    " \n",
    "But first of all, we need to complement the top-level concepts of MeSH. I don't know why MeSH doesn't include them. One day I'll ask for it,  but for now we'll hardcode it."
   ]
  },
  {
   "cell_type": "code",
   "execution_count": 5,
   "metadata": {
    "collapsed": true
   },
   "outputs": [],
   "source": [
    "#++++++++++++++++++++++++++++++++++++++++++++++++++++++++++++++++++++++\n",
    "# define top level terms as they are not part of the MeSH distribution\n",
    "#++++++++++++++++++++++++++++++++++++++++++++++++++++++++++++++++++++++\n",
    "\n",
    "topLevelTerms = {'A': 'Anatomy', \n",
    "                'B': 'Organisms',\n",
    "                'C': 'Diseases',\n",
    "                'D': 'Chemicals and Drugs',\n",
    "                'E': 'Analytical, Diagnostic and Therapeutic Techniques, and Equipment',\n",
    "                'F': 'Psychiatry and Psychology',\n",
    "                'G': 'Phenomena and Processes',\n",
    "                'H': 'Disciplines and Occupations',\n",
    "                'I': 'Anthropology, Education, Sociology, and Social Phenomena',\n",
    "                'J': 'Technology, Industry, and Agriculture',\n",
    "                'K': 'Humanities',\n",
    "                'L': 'Information Science',\n",
    "                'M': 'Named Groups',\n",
    "                'N': 'Health Care',\n",
    "                'V': 'Publication Characteristics',\n",
    "                'Z': 'Geographicals'}\n",
    "\n"
   ]
  },
  {
   "cell_type": "markdown",
   "metadata": {},
   "source": [
    "### Read MeSH into a python list\n",
    "\n",
    "The following methods are used to load MeSH into a list. By using `yield`, the readMeSH method returns a generator for the entries."
   ]
  },
  {
   "cell_type": "code",
   "execution_count": 6,
   "metadata": {
    "collapsed": true
   },
   "outputs": [],
   "source": [
    "#++++++++++++++++++++++++\n",
    "# read MeSH into a list\n",
    "#++++++++++++++++++++++++\n",
    "\n",
    "def provideEntry(id, name):\n",
    "    entry = defaultdict(list)\n",
    "    entry['UI'].append(id)\n",
    "    entry['MH'].append(name)\n",
    "    return entry\n",
    "\n",
    "def readMeSH(fin):\n",
    "    #start with the top level terms\n",
    "    for id, name in topLevelTerms.items():\n",
    "        yield provideEntry(id, name)\n",
    "    #continue with all others\n",
    "    entry = None\n",
    "    for line in fin:\n",
    "        line = line.strip()\n",
    "        if not line:\n",
    "            continue\n",
    "        #in MeSH, new records are marked like this\n",
    "        if line == \"*NEWRECORD\":\n",
    "            if entry:\n",
    "                yield entry\n",
    "            entry = defaultdict(list)\n",
    "            continue\n",
    "        # e.g., MH = Biliary Tract\n",
    "        key, _, value = line.partition(\" = \")\n",
    "        entry[key].append(value)\n",
    "    if entry:\n",
    "        yield entry"
   ]
  },
  {
   "cell_type": "markdown",
   "metadata": {},
   "source": [
    "### Create a mapping between Tree IDs and Unique IDs\n",
    "\n",
    "Another special feature of Mesh is that, in addition to Unique Identifiers, it has so-called Tree IDs that describe its position in the hierarchy. OBO does not know any tree identifiers. It uses unique IDs to display the parent nodes. We therefore build a list from which we can use the tree ID to determine the parent's unique ID. \n",
    "\n",
    "_Es sei angemerkt, dass diese Methode nicht die Hierarchie in MeSH exakt widergibt. Betrachten wir das folgende Beispiel:\n",
    "\n",
    "`C child_of Concept B child_of A\n",
    "B child_of D`\n",
    "\n",
    "Mesh allows C to be a child of B but not a descendant of D. With our simplification to replace tree IDs with unique IDs, we lose this option. In our example, C automatically becomes a descendant of D."
   ]
  },
  {
   "cell_type": "code",
   "execution_count": 7,
   "metadata": {
    "collapsed": true
   },
   "outputs": [],
   "source": [
    "#++++++++++++++++++++++++++++\n",
    "# map tree ids to unique ids\n",
    "#\n",
    "# A special feature of MeSH is that it has both unique IDs and tree IDs. \n",
    "# Therefore we create a mapping of tree IDs to unique IDs.\n",
    "# \n",
    "#++++++++++++++++++++++++++++\n",
    "\n",
    "from collections import defaultdict\n",
    "parentList = {}\n",
    "with open('data/d2018.bin', \"r\", encoding='Latin-1') as infile:\n",
    "    for entry in readMeSH(infile):\n",
    "        \n",
    "        for tree in entry['MN']: \n",
    "            parentList[tree] = entry['UI'][0]\n",
    "      \n",
    "def getParent(id):\n",
    "    parent = None\n",
    "    if '.' in id:\n",
    "        parent = parentList[re.sub('\\.[^\\.]+$', '', id)]\n",
    "    elif len(id) == 3:\n",
    "        parent = id[0]\n",
    "    return parent"
   ]
  },
  {
   "cell_type": "markdown",
   "metadata": {},
   "source": [
    "### Read MeSH and write to OBO\n",
    "\n",
    "Finally, we import the MeSH and output it directly in OBO format."
   ]
  },
  {
   "cell_type": "code",
   "execution_count": 8,
   "metadata": {},
   "outputs": [
    {
     "name": "stdout",
     "output_type": "stream",
     "text": [
      "done\n"
     ]
    }
   ],
   "source": [
    "#++++++++++++++++++++++++++++\n",
    "# write list to OBO\n",
    "#++++++++++++++++++++++++++++\n",
    "\n",
    "import re\n",
    "\n",
    "fo = open('data/d2018.obo', 'w', encoding ='utf-8')\n",
    "with open('data/d2018.bin', \"r\", encoding='Latin-1') as infile:\n",
    "    for entry in readMeSH(infile):\n",
    "            print(\"[Term]\", file = fo)\n",
    "            print(\"id: \" + entry['UI'][0], file = fo)\n",
    "            print(\"name: \" + entry['MH'][0], file = fo)\n",
    "            for syn in entry['ENTRY']:\n",
    "                syn = re.sub('\\|.*', '', syn)\n",
    "                print(\"synonym: \\\"\" + syn + \"\\\" EXACT []\", file = fo)\n",
    "            done = []\n",
    "            for tree in entry['MN']:\n",
    "                parentId = getParent(tree)\n",
    "                if parentId not in done:\n",
    "                    print(\"is_a: \"  + parentId, file = fo)\n",
    "                    done.append(parentId)\n",
    "            print('', file = fo)\n",
    "print('done')"
   ]
  }
 ],
 "metadata": {
  "kernelspec": {
   "display_name": "Python 3",
   "language": "python",
   "name": "python3"
  },
  "language_info": {
   "codemirror_mode": {
    "name": "ipython",
    "version": 3
   },
   "file_extension": ".py",
   "mimetype": "text/x-python",
   "name": "python",
   "nbconvert_exporter": "python",
   "pygments_lexer": "ipython3",
   "version": "3.6.6"
  }
 },
 "nbformat": 4,
 "nbformat_minor": 2
}
