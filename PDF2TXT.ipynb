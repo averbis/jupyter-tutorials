{
 "cells": [
  {
   "cell_type": "markdown",
   "metadata": {},
   "source": [
    "This simple tutorial shows how to convert a folder with PDF files into a folder with Text files using Apache Tika (see https://tika.apache.org/)."
   ]
  },
  {
   "cell_type": "code",
   "execution_count": 14,
   "metadata": {},
   "outputs": [
    {
     "name": "stdout",
     "output_type": "stream",
     "text": [
      "done\n"
     ]
    }
   ],
   "source": [
    "from tika import parser\n",
    "import os\n",
    "import re\n",
    "\n",
    "pdfdir = 'data/pdf'\n",
    "txtdir = 'data/txt'\n",
    "\n",
    "for subdir, dirs, files in os.walk(pdfdir):\n",
    "    for file in files:\n",
    "        if file.endswith('.pdf'):\n",
    "            pdf = parser.from_file(pdfdir + '/' + file)\n",
    "            txtfile = re.sub('.pdf', '.txt', file)\n",
    "            fout = open(txtdir + '/' + txtfile, 'w', encoding='utf-8')\n",
    "            print(pdf['content'], file=fout)\n",
    "            fout.close()\n",
    "print('done')"
   ]
  }
 ],
 "metadata": {
  "kernelspec": {
   "display_name": "Python 3",
   "language": "python",
   "name": "python3"
  },
  "language_info": {
   "codemirror_mode": {
    "name": "ipython",
    "version": 3
   },
   "file_extension": ".py",
   "mimetype": "text/x-python",
   "name": "python",
   "nbconvert_exporter": "python",
   "pygments_lexer": "ipython3",
   "version": "3.7.0"
  }
 },
 "nbformat": 4,
 "nbformat_minor": 2
}
